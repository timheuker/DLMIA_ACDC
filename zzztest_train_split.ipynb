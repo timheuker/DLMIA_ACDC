{
 "cells": [
  {
   "cell_type": "code",
   "execution_count": 6,
   "id": "30ff6965-be72-417a-9ca9-05937b0bdc3a",
   "metadata": {},
   "outputs": [],
   "source": [
    "import glob\n",
    "import os\n",
    "import random\n",
    "import monai\n",
    "import numpy as np\n",
    "from sklearn.model_selection import train_test_split\n",
    "import torch\n",
    "from tqdm.notebook import tqdm\n",
    "import wandb"
   ]
  },
  {
   "cell_type": "code",
   "execution_count": 7,
   "id": "94fa1773-9fa4-4517-8ce8-03717087f1b9",
   "metadata": {},
   "outputs": [],
   "source": [
    "#drive.mount('/content/drive')\n",
    "data_path = r'/home/jovyan/deeplearning'\n",
    "device = torch.device(\"cuda\" if torch.cuda.is_available() else \"cpu\")\n",
    "\n",
    "def build_dict(data_path):\n",
    "    \"\"\"\n",
    "    This function returns a list of dictionaries, each dictionary containing the keys 'img' and 'mask' \n",
    "    that returns the path to the corresponding image.\n",
    "    \n",
    "    Args:\n",
    "        data_path (str): path to the root folder of the data set.\n",
    "        mode (str): subset used. Must correspond to 'train' or 'test'.\n",
    "        \n",
    "    Returns:\n",
    "        (List[Dict[str, str]]) list of the dictionnaries containing the paths of images and masks.\n",
    "    \"\"\"\n",
    "\n",
    "    # define empty dictionary\n",
    "    dicts = []\n",
    "    n0_list = []\n",
    "    aug_list = []\n",
    "    # list all .png files in directory, including the path\n",
    "    paths_x = glob.glob(os.path.join(data_path, 'im_aug', '*.npy'))\n",
    "    false_crops = np.load(os.path.join(data_path, 'false_crop_list.npy'))\n",
    "    \n",
    "    test_list = []\n",
    "    train_list = []\n",
    "    ptnr = np.arange(1,101,1)\n",
    "    pt_train, pt_test = train_test_split(ptnr, test_size=0.25, random_state=42)\n",
    "    for i in range(len(paths_x)):\n",
    "        y_path = paths_x[i].replace(\"/im_\", \"/gt_\")\n",
    "        for j in range(len(pt_test)):\n",
    "            if pt_test[j] > 9 and (\"p0\"+str(pt_test[j]) in paths_x[i]) and ('_n0.' in paths_x[i]):\n",
    "                test_list.append({'img': paths_x[i], 'mask': y_path})\n",
    "                break\n",
    "            elif pt_test[j] < 10 and (\"p00\"+str(pt_test[j]) in paths_x[i]) and ('_n0.' in paths_x[i]):\n",
    "                test_list.append({'img': paths_x[i], 'mask': y_path})\n",
    "                break\n",
    "\n",
    "        for j in range(len(pt_train)):\n",
    "            if pt_train[j] > 9 and (\"p0\"+str(pt_train[j]) in paths_x[i]):\n",
    "                train_list.append({'img': paths_x[i], 'mask': y_path})\n",
    "                break\n",
    "            elif pt_train[j] < 10 and (\"p00\"+str(pt_train[j]) in paths_x[i]):\n",
    "                train_list.append({'img': paths_x[i], 'mask': y_path})\n",
    "                break\n",
    "        if \"p100\" in paths_x[i]:\n",
    "            train_list.append({'img': paths_x[i], 'mask': y_path})\n",
    "                \n",
    "    return train_list, test_list\n"
   ]
  },
  {
   "cell_type": "code",
   "execution_count": 9,
   "id": "ee6169d5-abf1-4e5e-adac-67a2f141abe8",
   "metadata": {},
   "outputs": [
    {
     "name": "stdout",
     "output_type": "stream",
     "text": [
      "4278\n",
      "476\n"
     ]
    }
   ],
   "source": [
    "train_dict_list = []\n",
    "test_dict_list = []\n",
    "train_dict_list, test_dict_list = build_dict(data_path)\n",
    "print(len(train_dict_list))\n",
    "print(len(test_dict_list))\n",
    "#np.save('/home/jovyan/deeplearning/file_list_train',train_dict_list)\n",
    "#np.save('/home/jovyan/deeplearning/file_list_test',test_dict_list)"
   ]
  },
  {
   "cell_type": "code",
   "execution_count": 4,
   "id": "1bc2969d-0ca6-4de9-8386-f0f21fdeb291",
   "metadata": {},
   "outputs": [],
   "source": [
    "import numpy as np\n",
    "import os\n",
    "data_path = r'/home/jovyan/deeplearning'\n",
    "false_crops = np.load(os.path.join(data_path, 'false_crop_list.npy'))"
   ]
  },
  {
   "cell_type": "code",
   "execution_count": 5,
   "id": "4be59c20-242b-4d3f-9b37-7f478aefc34e",
   "metadata": {},
   "outputs": [
    {
     "name": "stdout",
     "output_type": "stream",
     "text": [
      "21\n"
     ]
    }
   ],
   "source": [
    "print(len(false_crops))"
   ]
  },
  {
   "cell_type": "code",
   "execution_count": null,
   "id": "3445eee8-78b8-4ef6-a76a-ca548c92dc09",
   "metadata": {},
   "outputs": [],
   "source": []
  }
 ],
 "metadata": {
  "kernelspec": {
   "display_name": "Python",
   "language": "python",
   "name": "python3"
  },
  "language_info": {
   "codemirror_mode": {
    "name": "ipython",
    "version": 3
   },
   "file_extension": ".py",
   "mimetype": "text/x-python",
   "name": "python",
   "nbconvert_exporter": "python",
   "pygments_lexer": "ipython3",
   "version": "3.8.10"
  }
 },
 "nbformat": 4,
 "nbformat_minor": 5
}
